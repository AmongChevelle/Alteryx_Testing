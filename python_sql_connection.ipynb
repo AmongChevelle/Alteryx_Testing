{
 "cells": [
  {
   "cell_type": "code",
   "execution_count": 2,
   "id": "0929188c",
   "metadata": {},
   "outputs": [
    {
     "name": "stdout",
     "output_type": "stream",
     "text": [
      "Requirement already satisfied: mysql-connector-python in c:\\users\\herat\\anaconda3\\lib\\site-packages (8.3.0)Note: you may need to restart the kernel to use updated packages.\n",
      "\n"
     ]
    }
   ],
   "source": [
    "pip install mysql-connector-python"
   ]
  },
  {
   "cell_type": "code",
   "execution_count": 3,
   "id": "8a99c687",
   "metadata": {},
   "outputs": [
    {
     "name": "stdout",
     "output_type": "stream",
     "text": [
      "Requirement already satisfied: dask in c:\\users\\herat\\anaconda3\\lib\\site-packages (2023.6.0)\n",
      "Requirement already satisfied: click>=8.0 in c:\\users\\herat\\anaconda3\\lib\\site-packages (from dask) (8.0.4)\n",
      "Requirement already satisfied: cloudpickle>=1.5.0 in c:\\users\\herat\\anaconda3\\lib\\site-packages (from dask) (2.2.1)\n",
      "Requirement already satisfied: fsspec>=2021.09.0 in c:\\users\\herat\\anaconda3\\lib\\site-packages (from dask) (2023.4.0)\n",
      "Requirement already satisfied: packaging>=20.0 in c:\\users\\herat\\anaconda3\\lib\\site-packages (from dask) (23.1)\n",
      "Requirement already satisfied: partd>=1.2.0 in c:\\users\\herat\\anaconda3\\lib\\site-packages (from dask) (1.4.0)\n",
      "Requirement already satisfied: pyyaml>=5.3.1 in c:\\users\\herat\\anaconda3\\lib\\site-packages (from dask) (6.0)\n",
      "Requirement already satisfied: toolz>=0.10.0 in c:\\users\\herat\\anaconda3\\lib\\site-packages (from dask) (0.12.0)\n",
      "Requirement already satisfied: importlib-metadata>=4.13.0 in c:\\users\\herat\\anaconda3\\lib\\site-packages (from dask) (6.0.0)\n",
      "Requirement already satisfied: colorama in c:\\users\\herat\\anaconda3\\lib\\site-packages (from click>=8.0->dask) (0.4.6)\n",
      "Requirement already satisfied: zipp>=0.5 in c:\\users\\herat\\anaconda3\\lib\\site-packages (from importlib-metadata>=4.13.0->dask) (3.11.0)\n",
      "Requirement already satisfied: locket in c:\\users\\herat\\anaconda3\\lib\\site-packages (from partd>=1.2.0->dask) (1.0.0)\n",
      "Note: you may need to restart the kernel to use updated packages.\n"
     ]
    }
   ],
   "source": [
    "pip install dask"
   ]
  },
  {
   "cell_type": "code",
   "execution_count": 4,
   "id": "79f92c60",
   "metadata": {},
   "outputs": [],
   "source": [
    "from sqlalchemy import create_engine\n",
    "import pandas as pd\n",
    "import dask.dataframe as dd\n",
    "import time\n",
    "import os"
   ]
  },
  {
   "cell_type": "code",
   "execution_count": 5,
   "id": "d4f76ca1",
   "metadata": {},
   "outputs": [],
   "source": [
    "MYSQL_HOST = 'heratdevisha.lmu.build'\n",
    "MYSQL_USER = 'heratdev_admin_alteryx_capstone'\n",
    "MYSQL_PASSWORD = 'AlteryxCapstone2024'\n",
    "MYSQL_DB = 'heratdev_alteryx_capstone' \n",
    "\n",
    "lmubuildengine = create_engine(f'mysql+mysqlconnector://{MYSQL_USER}:{MYSQL_PASSWORD}@{MYSQL_HOST}/{MYSQL_DB}')\n",
    "aws_uri = f'mysql+mysqlconnector://{MYSQL_USER}:{MYSQL_PASSWORD}@{MYSQL_HOST}/{MYSQL_DB}'"
   ]
  },
  {
   "cell_type": "code",
   "execution_count": 9,
   "id": "1ce62659",
   "metadata": {},
   "outputs": [],
   "source": [
    "access_level = \"\"\"\n",
    "    SELECT access_levels\n",
    "    FROM Users\n",
    "    JOIN Roles\n",
    "    ON Users.role = Roles.role\n",
    "    WHERE UserID = 'seal_kala';\n",
    "           \"\"\""
   ]
  },
  {
   "cell_type": "code",
   "execution_count": 10,
   "id": "1e246c8e",
   "metadata": {},
   "outputs": [
    {
     "data": {
      "text/html": [
       "<div>\n",
       "<style scoped>\n",
       "    .dataframe tbody tr th:only-of-type {\n",
       "        vertical-align: middle;\n",
       "    }\n",
       "\n",
       "    .dataframe tbody tr th {\n",
       "        vertical-align: top;\n",
       "    }\n",
       "\n",
       "    .dataframe thead th {\n",
       "        text-align: right;\n",
       "    }\n",
       "</style>\n",
       "<table border=\"1\" class=\"dataframe\">\n",
       "  <thead>\n",
       "    <tr style=\"text-align: right;\">\n",
       "      <th></th>\n",
       "      <th>access_levels</th>\n",
       "    </tr>\n",
       "  </thead>\n",
       "  <tbody>\n",
       "    <tr>\n",
       "      <th>0</th>\n",
       "      <td>Executive</td>\n",
       "    </tr>\n",
       "  </tbody>\n",
       "</table>\n",
       "</div>"
      ],
      "text/plain": [
       "  access_levels\n",
       "0     Executive"
      ]
     },
     "execution_count": 10,
     "metadata": {},
     "output_type": "execute_result"
    }
   ],
   "source": [
    "access_level = pd.read_sql_query(access_level, con=lmubuildengine)\n",
    "access_level"
   ]
  }
 ],
 "metadata": {
  "kernelspec": {
   "display_name": "Python 3 (ipykernel)",
   "language": "python",
   "name": "python3"
  },
  "language_info": {
   "codemirror_mode": {
    "name": "ipython",
    "version": 3
   },
   "file_extension": ".py",
   "mimetype": "text/x-python",
   "name": "python",
   "nbconvert_exporter": "python",
   "pygments_lexer": "ipython3",
   "version": "3.11.5"
  }
 },
 "nbformat": 4,
 "nbformat_minor": 5
}
